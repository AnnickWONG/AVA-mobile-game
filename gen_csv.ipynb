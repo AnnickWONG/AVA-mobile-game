{
 "cells": [
  {
   "cell_type": "markdown",
   "metadata": {
    "pycharm": {
     "name": "#%% md\n"
    }
   },
   "source": [
    "# Adapted csv file for datasets"
   ]
  },
  {
   "cell_type": "code",
   "execution_count": 8,
   "metadata": {},
   "outputs": [],
   "source": [
    "import os\n",
    "import numpy as np\n",
    "import cv2\n",
    "import pandas as pd \n",
    "import csv"
   ]
  },
  {
   "cell_type": "markdown",
   "metadata": {
    "pycharm": {
     "name": "#%% md\n"
    }
   },
   "source": [
    "## read data"
   ]
  },
  {
   "cell_type": "code",
   "execution_count": 9,
   "metadata": {
    "collapsed": false,
    "jupyter": {
     "outputs_hidden": false
    },
    "pycharm": {
     "name": "#%%\n"
    }
   },
   "outputs": [],
   "source": [
    "root_path = os.getcwd() \n",
    "images_path = os.path.join(root_path,'images')\n",
    "data_path = os.path.join(root_path, 'scores')\n",
    "\n",
    "dataset_o =  os.path.join(data_path, 'score_overall.csv')\n",
    "dataset_c =  os.path.join(data_path, 'score_colorfulness.csv')\n",
    "dataset_ch=  os.path.join(data_path, 'score_color_harmony.csv')\n",
    "dataset_f =  os.path.join(data_path, 'score_fineness.csv')\n",
    "\n",
    "ids_o = pd.read_csv(dataset_o)\n",
    "ids_c = pd.read_csv(dataset_c)\n",
    "ids_ch= pd.read_csv(dataset_ch)\n",
    "ids_f = pd.read_csv(dataset_f)"
   ]
  },
  {
   "cell_type": "markdown",
   "metadata": {},
   "source": [
    "## Generate test list and valid list"
   ]
  },
  {
   "cell_type": "code",
   "execution_count": 10,
   "metadata": {},
   "outputs": [],
   "source": [
    "game = os.listdir(images_path)\n",
    "n = len(game)\n",
    "# test = np.empty([n,1], dtype = str) \n",
    "# valid = np.empty([n,1], dtype = str)\n",
    "test = []\n",
    "valid =[]\n",
    "for i in range(n):\n",
    "    name_game = game[i]\n",
    "    game_path = os.path.join(images_path,name_game)\n",
    "    images = os.listdir(game_path)\n",
    "    if 0<len(images)<3 :\n",
    "        test_image = images[0]\n",
    "        valid_image = ''\n",
    "    else :\n",
    "        img = np.random.choice(images, size=2, replace=False, p=None)\n",
    "        test_image = img[0]\n",
    "        valid_image = img[1]\n",
    "    test.append(name_game + '/' + str(test_image))\n",
    "    valid.append(name_game + '/' + str(valid_image))"
   ]
  },
  {
   "cell_type": "markdown",
   "metadata": {
    "pycharm": {
     "name": "#%% md\n"
    }
   },
   "source": [
    "## write data"
   ]
  },
  {
   "cell_type": "code",
   "execution_count": 11,
   "metadata": {
    "collapsed": false,
    "jupyter": {
     "outputs_hidden": false
    },
    "pycharm": {
     "name": "#%%\n"
    }
   },
   "outputs": [],
   "source": [
    "with open(os.path.join(data_path, \"all.csv\"),\"w\") as csvfile:\n",
    "    writer = csv.writer(csvfile)\n",
    "    # write columns_name\n",
    "    writer.writerow([\"image_name\", \"MOS_overall\", \"MOS_fineness\", \"MOS_colorful\", \"MOS_harmony\", \"set\", \"width\", \"height\"])\n",
    "\n",
    "    # write parameters of each images\n",
    "    for i in range(len(ids_o.index)):\n",
    "        img_name = ids_o.loc[i, 'filename']\n",
    "        \n",
    "        mos_o = ids_o.loc[i, 'mean']\n",
    "        mos_f = ids_f.loc[ids_f.filename == img_name, 'mean'].iloc[0]\n",
    "        mos_c = ids_c.loc[ids_c.filename == img_name, 'mean'].iloc[0]\n",
    "        mos_ch = ids_ch.loc[ids_ch.filename == img_name, 'mean'].iloc[0]\n",
    "        \n",
    "        index = img_name.rfind('_', 0, len(img_name)-7)\n",
    "        img_name = img_name[:index] + '/' +img_name[index+1:]\n",
    "        \n",
    "        if img_name in test:\n",
    "            sett = 'test'\n",
    "        elif img_name in valid:\n",
    "            sett = 'validation'\n",
    "        else:\n",
    "            sett = 'training'\n",
    "        \n",
    "        img_path = os.path.join(images_path, img_name)\n",
    "        if not os.path.exists(img_path):\n",
    "            print(\"\\n Not Found :\" + img_path)\n",
    "            print(\"Number :\" + str(i))\n",
    "            continue\n",
    "        img = cv2.imread(img_path)\n",
    "        sp = img.shape\n",
    "        width = sp[1]\n",
    "        height = sp[0]\n",
    "        writer.writerow([img_name,mos_o,mos_f,mos_c,mos_ch,sett,width,height])"
   ]
  },
  {
   "cell_type": "code",
   "execution_count": null,
   "metadata": {},
   "outputs": [],
   "source": []
  }
 ],
 "metadata": {
  "kernelspec": {
   "display_name": "mlsp_py2",
   "language": "python",
   "name": "mlsp_py2"
  },
  "language_info": {
   "codemirror_mode": {
    "name": "ipython",
    "version": 2
   },
   "file_extension": ".py",
   "mimetype": "text/x-python",
   "name": "python",
   "nbconvert_exporter": "python",
   "pygments_lexer": "ipython2",
   "version": "2.7.16"
  }
 },
 "nbformat": 4,
 "nbformat_minor": 4
}
